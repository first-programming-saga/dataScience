{
 "cells": [
  {
   "cell_type": "markdown",
   "metadata": {},
   "source": [
    "# 標本平均から元の平均を推計する"
   ]
  },
  {
   "cell_type": "code",
   "execution_count": null,
   "metadata": {},
   "outputs": [],
   "source": [
    "import numpy as np\n",
    "from scipy.stats import norm\n",
    "import matplotlib.pyplot as plt"
   ]
  },
  {
   "cell_type": "code",
   "execution_count": null,
   "metadata": {},
   "outputs": [],
   "source": [
    "# plt.rcParams['font.size'] = 24\n",
    "plt.rcParams['mathtext.fontset'] = 'cm'\n",
    "plt.rcParams['mathtext.default'] = 'it'\n",
    "plt.rcParams['figure.subplot.bottom']=0.2\n",
    "plt.rcParams['figure.subplot.left']=0.2"
   ]
  },
  {
   "cell_type": "code",
   "execution_count": null,
   "metadata": {},
   "outputs": [],
   "source": [
    "def estimateRange(mean: float, s: float, n: int, f: float) -> dict[str, float]:\n",
    "    \"\"\"\n",
    "    区間を推定\n",
    "    \"\"\"\n",
    "    minX = mean - f * s / np.sqrt(n)\n",
    "    maxX = mean + f * s / np.sqrt(n)\n",
    "    return {'lower' : minX, 'higher' : maxX}"
   ]
  },
  {
   "cell_type": "code",
   "execution_count": null,
   "metadata": {},
   "outputs": [],
   "source": [
    "def evalSample(n : int) -> tuple[float, float]:\n",
    "    \"\"\"\n",
    "    大きさnの標本に対して、平均と分散を返す\n",
    "    \"\"\"\n",
    "    d = np.zeros(n)\n",
    "    for i in range(n):\n",
    "        d[i] = np.random.rand()#[0,1)の乱数\n",
    "    x = 0\n",
    "    for i in range(n):\n",
    "        x += d[i]\n",
    "    mean = x / n\n",
    "    s = 0\n",
    "    for i in range(n):\n",
    "        s += (d[i] - mean) * (d[i] - mean)\n",
    "    s = s / (n - 1)\n",
    "    return mean, np.sqrt(s)"
   ]
  },
  {
   "cell_type": "code",
   "execution_count": null,
   "metadata": {},
   "outputs": [],
   "source": [
    "alpha = 0.05 #信頼度\n",
    "f = norm.isf(alpha / 2) #信頼度に対応した標準正規分布の変位\n",
    "sampleSize = 10000 #標本サイズ\n",
    "num_trial = 50 #標本数\n",
    "result = list()\n",
    "for i in range(num_trial):\n",
    "    m, s = evalSample(sampleSize)\n",
    "    r = estimateRange(m, s, sampleSize, f)\n",
    "    result.append(r)\n",
    "\n",
    "#作図\n",
    "fig, ax = plt.subplots()\n",
    "ax.set_xlim(.48, .52)\n",
    "ax.set_xlabel('$\\\\bar{x}$')\n",
    "ax.set_ylabel('samples')\n",
    "#各標本の推定を表示\n",
    "for i, r in enumerate(result):\n",
    "    ax.plot([r['lower'], r['higher']], [i, i], 'b')\n",
    "#population mean\n",
    "ax.vlines(0.5, -1,50, color = 'r', linestyle = '--', zorder = 100)\n",
    "fig.savefig('populationMean.pdf')\n",
    "plt.show()"
   ]
  }
 ],
 "metadata": {
  "kernelspec": {
   "display_name": "Python 3.9.9 64-bit ('myenv')",
   "language": "python",
   "name": "python3"
  },
  "language_info": {
   "codemirror_mode": {
    "name": "ipython",
    "version": 3
   },
   "file_extension": ".py",
   "mimetype": "text/x-python",
   "name": "python",
   "nbconvert_exporter": "python",
   "pygments_lexer": "ipython3",
   "version": "3.12.2"
  },
  "orig_nbformat": 2,
  "vscode": {
   "interpreter": {
    "hash": "b3b804b6b7a7d9b475cf928428dd1242016eacc24c47853aaf0f8d1d2228aa39"
   }
  }
 },
 "nbformat": 4,
 "nbformat_minor": 2
}

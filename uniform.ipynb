{
 "cells": [
  {
   "cell_type": "markdown",
   "metadata": {},
   "source": [
    "# 一様分布"
   ]
  },
  {
   "cell_type": "code",
   "execution_count": null,
   "metadata": {},
   "outputs": [],
   "source": [
    "import random\n",
    "import matplotlib.pyplot as plt"
   ]
  },
  {
   "cell_type": "code",
   "execution_count": null,
   "metadata": {},
   "outputs": [],
   "source": [
    "# plt.rcParams['font.size'] = 24\n",
    "plt.rcParams['mathtext.fontset'] = 'cm'\n",
    "plt.rcParams['mathtext.default'] = 'it'\n",
    "plt.rcParams['figure.subplot.bottom']=0.2\n",
    "plt.rcParams['figure.subplot.left']=0.2\n"
   ]
  },
  {
   "cell_type": "code",
   "execution_count": null,
   "metadata": {},
   "outputs": [],
   "source": [
    "def mkData(n: int) -> list[float]:\n",
    "    data = list()\n",
    "    for k in range(n):\n",
    "        x = random.random()\n",
    "        data.append(x)\n",
    "    return data"
   ]
  },
  {
   "cell_type": "code",
   "execution_count": null,
   "metadata": {},
   "outputs": [],
   "source": [
    "n = 100000\n",
    "data = mkData(n)\n",
    "\n",
    "numBin = 100\n",
    "fig,ax = plt.subplots()\n",
    "ax.set_title(f'uniform distribution')\n",
    "ax.text(.3,1.1,f'($n = {n}$, $n_\\\\mathrm{{Bin}} = {numBin}$)')\n",
    "ax.set_xlim(0,1)\n",
    "ax.set_xlabel('$x$')\n",
    "ax.set_ylim(0,1.2)\n",
    "ax.set_ylabel('$p(x)$')\n",
    "ax.hist(data, bins = numBin, rwidth = 0.8, density = True, color = 'c', label = \"data\")\n",
    "#plt.legend(loc = 'upper right')\n",
    "fig.savefig('uniform.pdf')\n",
    "plt.show()"
   ]
  }
 ],
 "metadata": {
  "kernelspec": {
   "display_name": "Python 3.9.9 64-bit ('myenv')",
   "language": "python",
   "name": "python3"
  },
  "language_info": {
   "codemirror_mode": {
    "name": "ipython",
    "version": 3
   },
   "file_extension": ".py",
   "mimetype": "text/x-python",
   "name": "python",
   "nbconvert_exporter": "python",
   "pygments_lexer": "ipython3",
   "version": "3.12.2"
  },
  "orig_nbformat": 4,
  "vscode": {
   "interpreter": {
    "hash": "b3b804b6b7a7d9b475cf928428dd1242016eacc24c47853aaf0f8d1d2228aa39"
   }
  }
 },
 "nbformat": 4,
 "nbformat_minor": 2
}

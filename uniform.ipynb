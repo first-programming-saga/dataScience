{
 "cells": [
  {
   "cell_type": "markdown",
   "metadata": {},
   "source": [
    "# 一様分布"
   ]
  },
  {
   "cell_type": "code",
   "execution_count": null,
   "metadata": {},
   "outputs": [],
   "source": [
    "import random\n",
    "import matplotlib.pyplot as plt"
   ]
  },
  {
   "cell_type": "code",
   "execution_count": null,
   "metadata": {},
   "outputs": [],
   "source": [
    "def mkData(n: int) -> list[float]:\n",
    "    data = list()\n",
    "    for k in range(n):\n",
    "        x = random.random()\n",
    "        data.append(x)\n",
    "    return data"
   ]
  },
  {
   "cell_type": "code",
   "execution_count": null,
   "metadata": {},
   "outputs": [],
   "source": [
    "n = 100000\n",
    "data = mkData(n)\n",
    "\n",
    "numBin = 100\n",
    "plt.figure(figsize = (10, 10), facecolor = 'w')\n",
    "plt.rcParams['font.size'] = 24\n",
    "plt.title(f'uniform distribution\\n (n = {n}, numBin = {numBin})')\n",
    "plt.hist(data, bins = numBin, rwidth = 0.8, density = True, color = 'c', label = \"data\")\n",
    "#plt.legend(loc = 'upper right')\n",
    "plt.savefig('uniform.pdf')\n",
    "plt.show()"
   ]
  }
 ],
 "metadata": {
  "interpreter": {
   "hash": "5b50574aca822a4663eeb358827631e5cbe081f130521b0066dec6b864ef6f2f"
  },
  "kernelspec": {
   "display_name": "Python 3.9.7 ('myenv')",
   "language": "python",
   "name": "python3"
  },
  "language_info": {
   "codemirror_mode": {
    "name": "ipython",
    "version": 3
   },
   "file_extension": ".py",
   "mimetype": "text/x-python",
   "name": "python",
   "nbconvert_exporter": "python",
   "pygments_lexer": "ipython3",
   "version": "3.9.7"
  },
  "orig_nbformat": 4
 },
 "nbformat": 4,
 "nbformat_minor": 2
}

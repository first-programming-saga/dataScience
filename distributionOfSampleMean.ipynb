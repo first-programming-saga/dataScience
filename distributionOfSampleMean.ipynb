{
 "cells": [
  {
   "cell_type": "markdown",
   "metadata": {},
   "source": [
    "# 標本平均の分布"
   ]
  },
  {
   "cell_type": "code",
   "execution_count": null,
   "metadata": {},
   "outputs": [],
   "source": [
    "import numpy as np\n",
    "from scipy.stats import norm\n",
    "import matplotlib.pyplot as plt"
   ]
  },
  {
   "cell_type": "markdown",
   "metadata": {},
   "source": [
    "## [0,1)の一様乱数から平均を計算\n",
    "母集団の平均は1/2、分散は1/12"
   ]
  },
  {
   "cell_type": "code",
   "execution_count": null,
   "metadata": {},
   "outputs": [],
   "source": [
    "def evalSampleMean(n: int) -> float:\n",
    "    \"\"\"\n",
    "    大きさnの標本に対して、平均を返す\n",
    "    \"\"\"\n",
    "    x = 0\n",
    "    for i in range(n):\n",
    "        x += np.random.rand()#[0,1)の乱数\n",
    "    return x / n"
   ]
  },
  {
   "cell_type": "code",
   "execution_count": null,
   "metadata": {},
   "outputs": [],
   "source": [
    "#標本平均を作る\n",
    "sample_size = 100 #標本サイズ\n",
    "num_samples = 10000 #標本数\n",
    "sample_means = np.zeros(num_samples)\n",
    "for i in range(num_samples):\n",
    "    sample_means[i] = evalSampleMean(sample_size)\n",
    "\n",
    "#正規分布の曲線\n",
    "numBin = 100\n",
    "mu = .5\n",
    "sigma = 1/np.sqrt(12)/np.sqrt(sample_size)\n",
    "x = np.linspace(- 5*sigma + mu, 5*sigma + mu, 10*numBin)\n",
    "y = norm.pdf(x, mu, sigma)\n",
    "\n",
    "#作図\n",
    "fig, ax = plt.subplots(1, 1, figsize = (15, 15))\n",
    "plt.rcParams['font.size'] = 24\n",
    "plt.title(f'Sample Mean (uniform distribution) sample size = {sample_size}')\n",
    "#ヒストグラムを表示\n",
    "ax.hist(sample_means, bins = numBin, density = True, color = 'c', label = \"data\")\n",
    "#正規分布を表示\n",
    "ax.plot(x, y, color = 'r', linewidth = 5, label = \"theory\")\n",
    "plt.legend(loc = 'upper right')\n",
    "plt.savefig('sampleMean.pdf')\n",
    "plt.show()"
   ]
  },
  {
   "cell_type": "code",
   "execution_count": null,
   "metadata": {},
   "outputs": [],
   "source": []
  }
 ],
 "metadata": {
  "kernelspec": {
   "display_name": "Python 3.9.7 ('myenv')",
   "language": "python",
   "name": "python3"
  },
  "language_info": {
   "codemirror_mode": {
    "name": "ipython",
    "version": 3
   },
   "file_extension": ".py",
   "mimetype": "text/x-python",
   "name": "python",
   "nbconvert_exporter": "python",
   "pygments_lexer": "ipython3",
   "version": "3.9.7"
  },
  "orig_nbformat": 2,
  "vscode": {
   "interpreter": {
    "hash": "5b50574aca822a4663eeb358827631e5cbe081f130521b0066dec6b864ef6f2f"
   }
  }
 },
 "nbformat": 4,
 "nbformat_minor": 2
}

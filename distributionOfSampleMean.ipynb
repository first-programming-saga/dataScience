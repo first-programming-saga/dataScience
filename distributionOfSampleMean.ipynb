{
 "cells": [
  {
   "cell_type": "markdown",
   "metadata": {},
   "source": [
    "# 標本平均の分布"
   ]
  },
  {
   "cell_type": "code",
   "execution_count": null,
   "metadata": {},
   "outputs": [],
   "source": [
    "import numpy as np\n",
    "# from scipy.stats import norm\n",
    "import matplotlib.pyplot as plt"
   ]
  },
  {
   "cell_type": "code",
   "execution_count": null,
   "metadata": {},
   "outputs": [],
   "source": [
    "# plt.rcParams['font.size'] = 18\n",
    "plt.rcParams['mathtext.fontset'] = 'cm'\n",
    "plt.rcParams['mathtext.default'] = 'it'\n",
    "plt.rcParams['figure.subplot.bottom']=0.2\n",
    "plt.rcParams['figure.subplot.left']=0.2"
   ]
  },
  {
   "cell_type": "markdown",
   "metadata": {},
   "source": [
    "## [0,1)の一様乱数から平均を計算\n",
    "母集団の平均は1/2、分散は1/12"
   ]
  },
  {
   "cell_type": "code",
   "execution_count": null,
   "metadata": {},
   "outputs": [],
   "source": [
    "def evalSampleMean(n: int) -> float:\n",
    "    \"\"\"\n",
    "    大きさnの標本に対して、平均を返す\n",
    "    \"\"\"\n",
    "    x = 0\n",
    "    for i in range(n):\n",
    "        x += np.random.rand()#[0,1)の乱数\n",
    "    return x / n"
   ]
  },
  {
   "cell_type": "code",
   "execution_count": null,
   "metadata": {},
   "outputs": [],
   "source": [
    "def norm(x: float, mu: float, sigma: float) -> float:\n",
    "    \"\"\"\n",
    "    正規分布の確率密度関数\n",
    "    \"\"\"\n",
    "    return 1 / np.sqrt(2 * np.pi * sigma**2) * np.exp(-(x - mu)**2 / (2 * sigma**2))\n",
    "\n",
    "def norm_pdf(x: np.ndarray, mu: float, sigma: float) -> np.ndarray:\n",
    "    \"\"\"\n",
    "    正規分布の確率密度関数\n",
    "    \"\"\"\n",
    "    return 1 / np.sqrt(2 * np.pi * sigma**2) * np.exp(-(x - mu)**2 / (2 * sigma**2))"
   ]
  },
  {
   "cell_type": "code",
   "execution_count": null,
   "metadata": {},
   "outputs": [],
   "source": [
    "def createSample(sample_size:int, num_samples:int) -> np.ndarray:\n",
    "    \"\"\"\n",
    "    標本を生成する\n",
    "    \"\"\"\n",
    "    sample_means = np.zeros(num_samples)\n",
    "    for i in range(num_samples):\n",
    "        sample_means[i] = evalSampleMean(sample_size)\n",
    "    return sample_means"
   ]
  },
  {
   "cell_type": "code",
   "execution_count": null,
   "metadata": {},
   "outputs": [],
   "source": [
    "def normal_distribution(mu: float, sigma: float, numBin:int) -> tuple[list[float], list[float]]:\n",
    "    \"\"\"\n",
    "    正規分布の確率密度関数\n",
    "    \"\"\"\n",
    "    x:list[float] = np.linspace(- 5*sigma + mu, 5*sigma + mu, 10*numBin)\n",
    "    y:list[float] = norm_pdf(x, mu, sigma)\n",
    "    return x, y"
   ]
  },
  {
   "cell_type": "code",
   "execution_count": null,
   "metadata": {},
   "outputs": [],
   "source": [
    "#標本平均を作る\n",
    "sample_size = 100 #標本サイズ\n",
    "num_samples = 10000 #標本数\n",
    "sample_means = createSample(sample_size, num_samples)\n",
    "\n",
    "#正規分布の曲線\n",
    "numBin = 100\n",
    "mu = .5\n",
    "sigma = 1/np.sqrt(12)/np.sqrt(sample_size)\n",
    "x,y = normal_distribution(mu, sigma, numBin)\n",
    "\n",
    "#作図\n",
    "fig, ax =plt.subplots(facecolor='white')\n",
    "ax.set_title('Sample Mean (uniform distribution)')\n",
    "ax.text(.35,12,f'$n = {sample_size}$')\n",
    "ax.set_xlabel('$\\\\bar{x}$')\n",
    "ax.set_ylabel('frequency')\n",
    "#ヒストグラムを表示\n",
    "ax.hist(sample_means, bins = numBin, density = True, color = 'c', label = \"data\")\n",
    "#正規分布を表示\n",
    "ax.plot(x, y, color = 'r', linewidth = 3, label = \"theory\")\n",
    "ax.legend(loc = 'upper right')\n",
    "fig.savefig('sampleMean.pdf')\n",
    "plt.show()"
   ]
  },
  {
   "cell_type": "code",
   "execution_count": null,
   "metadata": {},
   "outputs": [],
   "source": []
  }
 ],
 "metadata": {
  "kernelspec": {
   "display_name": "Python 3.9.9 64-bit ('myenv')",
   "language": "python",
   "name": "python3"
  },
  "language_info": {
   "codemirror_mode": {
    "name": "ipython",
    "version": 3
   },
   "file_extension": ".py",
   "mimetype": "text/x-python",
   "name": "python",
   "nbconvert_exporter": "python",
   "pygments_lexer": "ipython3",
   "version": "3.12.2"
  },
  "orig_nbformat": 2,
  "vscode": {
   "interpreter": {
    "hash": "b3b804b6b7a7d9b475cf928428dd1242016eacc24c47853aaf0f8d1d2228aa39"
   }
  }
 },
 "nbformat": 4,
 "nbformat_minor": 2
}

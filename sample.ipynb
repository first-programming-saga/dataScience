{
 "cells": [
  {
   "cell_type": "markdown",
   "metadata": {},
   "source": [
    "# 正規分布"
   ]
  },
  {
   "cell_type": "code",
   "execution_count": null,
   "metadata": {},
   "outputs": [],
   "source": [
    "import numpy as np\n",
    "from scipy.stats import norm\n",
    "import matplotlib.pyplot as plt"
   ]
  },
  {
   "cell_type": "code",
   "execution_count": null,
   "metadata": {},
   "outputs": [],
   "source": [
    "#標準正規分布を平均と標準偏差を指定したものへ変換\n",
    "def changeAandS(myu,sigma,data):\n",
    "    d = np.zeros(len(data))\n",
    "    for i in range(len(data)):\n",
    "        d[i] = data[i]*sigma+myu\n",
    "    return d"
   ]
  },
  {
   "cell_type": "code",
   "execution_count": null,
   "metadata": {},
   "outputs": [],
   "source": [
    "n = 100000#サンプル数\n",
    "numBin = 100#binの数\n",
    "mu = 10#平均\n",
    "sigma = 2#標準偏差\n",
    "np.random.seed(1)\n",
    "normalDist = np.random.randn(n)#標準正規分布\n",
    "data = changeAandS(mu, sigma, normalDist)#平均と標準偏差を指定した正規分布\n",
    "#正規分布の曲線\n",
    "x = np.linspace(- 5*sigma + mu, 5*sigma + mu, 2*numBin)\n",
    "y = norm.pdf(x, mu, sigma)\n",
    "#作図開始\n",
    "fig,ax = plt.subplots()\n",
    "# plt.rcParams['font.size'] = 24\n",
    "ax.hist(data, bins = numBin, density = True, color = 'c', label = \"data\")\n",
    "ax.plot(x, y, color = 'r', linewidth = 3, label = \"theory\")\n",
    "plt.legend(loc = 'upper right')\n",
    "plt.show()"
   ]
  },
  {
   "cell_type": "code",
   "execution_count": null,
   "metadata": {},
   "outputs": [],
   "source": []
  }
 ],
 "metadata": {
  "kernelspec": {
   "display_name": "Python 3.9.7 ('myenv')",
   "language": "python",
   "name": "python3"
  },
  "language_info": {
   "codemirror_mode": {
    "name": "ipython",
    "version": 3
   },
   "file_extension": ".py",
   "mimetype": "text/x-python",
   "name": "python",
   "nbconvert_exporter": "python",
   "pygments_lexer": "ipython3",
   "version": "3.12.2"
  },
  "orig_nbformat": 2,
  "vscode": {
   "interpreter": {
    "hash": "5b50574aca822a4663eeb358827631e5cbe081f130521b0066dec6b864ef6f2f"
   }
  }
 },
 "nbformat": 4,
 "nbformat_minor": 2
}
